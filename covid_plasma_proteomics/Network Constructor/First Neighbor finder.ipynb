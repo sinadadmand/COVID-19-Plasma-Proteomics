{
 "cells": [
  {
   "cell_type": "code",
   "execution_count": 74,
   "id": "011ea63a-17f7-41b7-8b54-06879c9a574a",
   "metadata": {},
   "outputs": [],
   "source": [
    "import numpy as np\n",
    "import pandas as pd\n",
    "import networkx as nx\n",
    "\n",
    "interactome = pd.read_csv('HIPPIE-current.mitab.txt', delimiter='\\t', dtype='str')\n",
    "interactome = interactome[['Gene Name Interactor A', 'Gene Name Interactor B']]\n",
    "\n",
    "file = open('first_neighbors.csv', 'w')\n",
    "file.writelines('Gene'+'\\n')\n",
    "\n",
    "G = nx.from_pandas_edgelist(interactome, source='Gene Name Interactor A', target = 'Gene Name Interactor B')\n",
    "\n",
    "src = pd.read_csv('Prizes2.csv', delimiter=',')\n",
    "src = src.iloc[:,0].values\n",
    "\n",
    "\n",
    "nodes = []\n",
    "for i in src:\n",
    "    try:\n",
    "        nodes += list(G.neighbors(i))\n",
    "    except:\n",
    "        continue\n",
    "        \n",
    "for j in nodes:\n",
    "    file.writelines(str(j)+'\\n')\n",
    "\n",
    "file.close()"
   ]
  },
  {
   "cell_type": "code",
   "execution_count": null,
   "id": "fb167aba-56b8-4dba-a362-27225ce8c4e3",
   "metadata": {},
   "outputs": [],
   "source": []
  }
 ],
 "metadata": {
  "kernelspec": {
   "display_name": "Python 3 (ipykernel)",
   "language": "python",
   "name": "python3"
  },
  "language_info": {
   "codemirror_mode": {
    "name": "ipython",
    "version": 3
   },
   "file_extension": ".py",
   "mimetype": "text/x-python",
   "name": "python",
   "nbconvert_exporter": "python",
   "pygments_lexer": "ipython3",
   "version": "3.9.12"
  }
 },
 "nbformat": 4,
 "nbformat_minor": 5
}
